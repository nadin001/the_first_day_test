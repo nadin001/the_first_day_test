{
  "nbformat": 4,
  "nbformat_minor": 0,
  "metadata": {
    "kernelspec": {
      "display_name": "HCIA_AI",
      "language": "python",
      "name": "hcia_ai"
    },
    "language_info": {
      "codemirror_mode": {
        "name": "ipython",
        "version": 3
      },
      "file_extension": ".py",
      "mimetype": "text/x-python",
      "name": "python",
      "nbconvert_exporter": "python",
      "pygments_lexer": "ipython3",
      "version": "3.6.10"
    },
    "colab": {
      "name": "The first_daily test.ipynb",
      "provenance": [],
      "collapsed_sections": []
    }
  },
  "cells": [
    {
      "cell_type": "markdown",
      "metadata": {
        "id": "_p1C7I9fkbHw"
      },
      "source": [
        "# 1.Print 'Hello HCIA'."
      ]
    },
    {
      "cell_type": "code",
      "metadata": {
        "id": "Os0tYD3UkbH0",
        "outputId": "e1ef8c0f-26e2-40db-ff37-008f17efc2fb",
        "colab": {
          "base_uri": "https://localhost:8080/"
        }
      },
      "source": [
        "print('Hello HCIA')"
      ],
      "execution_count": null,
      "outputs": [
        {
          "output_type": "stream",
          "text": [
            "Hello HCIA\n"
          ],
          "name": "stdout"
        }
      ]
    },
    {
      "cell_type": "markdown",
      "metadata": {
        "id": "ZFJHq6prkbH7"
      },
      "source": [
        "# 2.Define two variables and calculate their sum."
      ]
    },
    {
      "cell_type": "code",
      "metadata": {
        "id": "ADfGSDcEkbH8",
        "outputId": "74da2b2f-9dce-4018-e967-640d2a96a864",
        "colab": {
          "base_uri": "https://localhost:8080/"
        }
      },
      "source": [
        "A = 6\n",
        "B = 7\n",
        "print(A + B)"
      ],
      "execution_count": null,
      "outputs": [
        {
          "output_type": "stream",
          "text": [
            "13\n"
          ],
          "name": "stdout"
        }
      ]
    },
    {
      "cell_type": "markdown",
      "metadata": {
        "id": "ugAdhrFJkbIE"
      },
      "source": [
        "# 3.Define a list and replicate in three different ways."
      ]
    },
    {
      "cell_type": "code",
      "metadata": {
        "id": "Fjm8VN27kbIG",
        "outputId": "0a8649c5-f50b-43f6-e87e-08cf3801d726",
        "colab": {
          "base_uri": "https://localhost:8080/"
        }
      },
      "source": [
        "my_list = [1, 0, 6]\n",
        "new_list1 = my_list.copy()\n",
        "print(new_list1)\n",
        "new_list2 = my_list[:]\n",
        "print(new_list2)\n",
        "new_list3 = []\n",
        "for i in my_list:\n",
        "  new_list3.append(i)\n",
        "print(new_list3)\n",
        "\n",
        "#неточная формулировка, поэтому есть два варианта вывода\n",
        "#второй вариант:\n",
        "\n",
        "l = [1, 2, 3, 5, 7, 9, 0]\n",
        "print(l,l,l)\n",
        "for i in range(3):\n",
        "print(l)\n",
        "print([l]*3)"
      ],
      "execution_count": null,
      "outputs": [
        {
          "output_type": "stream",
          "text": [
            "[1, 0, 6]\n",
            "[1, 0, 6]\n",
            "[1, 0, 6]\n"
          ],
          "name": "stdout"
        }
      ]
    },
    {
      "cell_type": "markdown",
      "metadata": {
        "id": "unoHHc7GkbIL"
      },
      "source": [
        "# 4.Define two lists and merge them together."
      ]
    },
    {
      "cell_type": "code",
      "metadata": {
        "id": "3XYsgqPrkbIM",
        "outputId": "88106ba3-1c9e-44fa-f394-585d4faf33b0",
        "colab": {
          "base_uri": "https://localhost:8080/"
        }
      },
      "source": [
        "l1 = [0, 1, 2]\n",
        "l2 = [3, 4, 5]\n",
        "lis = l1 + l2\n",
        "print(lis)"
      ],
      "execution_count": null,
      "outputs": [
        {
          "output_type": "stream",
          "text": [
            "[0, 1, 2, 3, 4, 5]\n"
          ],
          "name": "stdout"
        }
      ]
    },
    {
      "cell_type": "markdown",
      "metadata": {
        "id": "Xo5m4cMrkbIV"
      },
      "source": [
        "# 5. Get the last element of the list and print it."
      ]
    },
    {
      "cell_type": "code",
      "metadata": {
        "id": "sguD_UTnkbIY",
        "outputId": "a59eabc4-a0ac-4433-941c-50b0352d8fea",
        "colab": {
          "base_uri": "https://localhost:8080/"
        }
      },
      "source": [
        "my_list = [0, 1, 2, 4]\n",
        "print(my_list[len(my_list)-1])"
      ],
      "execution_count": null,
      "outputs": [
        {
          "output_type": "stream",
          "text": [
            "4\n"
          ],
          "name": "stdout"
        }
      ]
    },
    {
      "cell_type": "markdown",
      "metadata": {
        "id": "mmMFIDJXkbIf"
      },
      "source": [
        "# 6.Define a tuple that contains only one element."
      ]
    },
    {
      "cell_type": "code",
      "metadata": {
        "id": "UTU07gpEkbIg",
        "outputId": "7b5d8b06-c56b-4ac0-aab8-38c9f44fca6a",
        "colab": {
          "base_uri": "https://localhost:8080/"
        }
      },
      "source": [
        "a = tuple([1])\n",
        "print(a)\n",
        "print(type(a))"
      ],
      "execution_count": null,
      "outputs": [
        {
          "output_type": "stream",
          "text": [
            "(1,)\n",
            "<class 'tuple'>\n"
          ],
          "name": "stdout"
        }
      ]
    },
    {
      "cell_type": "markdown",
      "metadata": {
        "id": "fpOhxcfckbIp"
      },
      "source": [
        "# 7.Define a three-line long string."
      ]
    },
    {
      "cell_type": "code",
      "metadata": {
        "id": "cOryC6YOkbIq",
        "outputId": "3dc0aa66-d5e7-47df-a62a-5c8ce0bc3bae",
        "colab": {
          "base_uri": "https://localhost:8080/"
        }
      },
      "source": [
        "s = \"cute \\nlittle \\nbunny\"\n",
        "print(s)"
      ],
      "execution_count": null,
      "outputs": [
        {
          "output_type": "stream",
          "text": [
            "cute \n",
            "little \n",
            "bunny\n"
          ],
          "name": "stdout"
        }
      ]
    },
    {
      "cell_type": "markdown",
      "metadata": {
        "id": "M5J-Wk2ekbIu"
      },
      "source": [
        "# 8.Define a tuple and then use the 'for loop' to print all the elements."
      ]
    },
    {
      "cell_type": "code",
      "metadata": {
        "id": "RKRcbgpEkbIv",
        "outputId": "859f72da-c0b4-4d80-a3a9-bc72486fce40",
        "colab": {
          "base_uri": "https://localhost:8080/"
        }
      },
      "source": [
        "t = ([1], [2], [3])\n",
        "for x in t:\n",
        "  print(x)"
      ],
      "execution_count": null,
      "outputs": [
        {
          "output_type": "stream",
          "text": [
            "<class 'tuple'>\n",
            "[1]\n",
            "[2]\n",
            "[3]\n"
          ],
          "name": "stdout"
        }
      ]
    },
    {
      "cell_type": "markdown",
      "metadata": {
        "id": "tj1TE2IrkbI3"
      },
      "source": [
        "# 9.Define a function to do Multiplication, such as Mul(8,6),and its output 48."
      ]
    },
    {
      "cell_type": "code",
      "metadata": {
        "id": "8Fb2WjmHkbI4",
        "outputId": "72379b29-0af6-4a51-b8ae-0d440e613d39",
        "colab": {
          "base_uri": "https://localhost:8080/"
        }
      },
      "source": [
        "def mul(a, b):\n",
        "  return a*b \n",
        "mul(8, 6)"
      ],
      "execution_count": null,
      "outputs": [
        {
          "output_type": "execute_result",
          "data": {
            "text/plain": [
              "48"
            ]
          },
          "metadata": {
            "tags": []
          },
          "execution_count": 35
        }
      ]
    },
    {
      "cell_type": "markdown",
      "metadata": {
        "id": "upNvED3XkbI8"
      },
      "source": [
        "# 10.Import numpy and use numpy to define an array, the its shape  is (5,5) and all its elements is 0."
      ]
    },
    {
      "cell_type": "code",
      "metadata": {
        "id": "QnTa4zOqkbI9",
        "outputId": "c31bfa9e-78b5-4393-aa05-5ffac422bd63",
        "colab": {
          "base_uri": "https://localhost:8080/"
        }
      },
      "source": [
        "import numpy as np\n",
        "s = (5, 5)\n",
        "np.zeros(s)"
      ],
      "execution_count": null,
      "outputs": [
        {
          "output_type": "execute_result",
          "data": {
            "text/plain": [
              "array([[0., 0., 0., 0., 0.],\n",
              "       [0., 0., 0., 0., 0.],\n",
              "       [0., 0., 0., 0., 0.],\n",
              "       [0., 0., 0., 0., 0.],\n",
              "       [0., 0., 0., 0., 0.]])"
            ]
          },
          "metadata": {
            "tags": []
          },
          "execution_count": 37
        }
      ]
    },
    {
      "cell_type": "markdown",
      "metadata": {
        "id": "28v0bPF7kbJB"
      },
      "source": [
        "# 11.Import numpy and use numpy to define an array, the shape is (4,6) and all elements is 0."
      ]
    },
    {
      "cell_type": "code",
      "metadata": {
        "id": "fL7xmiGOkbJF",
        "outputId": "9ac0b41d-1686-4619-cf34-77c19a5084f1",
        "colab": {
          "base_uri": "https://localhost:8080/"
        }
      },
      "source": [
        "import numpy as np\n",
        "s = (4, 6)\n",
        "np.zeros(s)"
      ],
      "execution_count": null,
      "outputs": [
        {
          "output_type": "execute_result",
          "data": {
            "text/plain": [
              "array([[0., 0., 0., 0., 0., 0.],\n",
              "       [0., 0., 0., 0., 0., 0.],\n",
              "       [0., 0., 0., 0., 0., 0.],\n",
              "       [0., 0., 0., 0., 0., 0.]])"
            ]
          },
          "metadata": {
            "tags": []
          },
          "execution_count": 38
        }
      ]
    },
    {
      "cell_type": "markdown",
      "metadata": {
        "id": "RDfYcFSgkbJN"
      },
      "source": [
        "# 12.Use numpy.arrange() to generate an array of shape(15,), then modify the shape to(3,5)."
      ]
    },
    {
      "cell_type": "code",
      "metadata": {
        "id": "fvINi7bokbJO",
        "outputId": "9e7c7753-180e-4c4d-b634-a1d8b20bbe64",
        "colab": {
          "base_uri": "https://localhost:8080/"
        }
      },
      "source": [
        "a = np.arange(15)\n",
        "print(a.shape)\n",
        "print(a.reshape(3, 5))\n"
      ],
      "execution_count": 44,
      "outputs": [
        {
          "output_type": "stream",
          "text": [
            "(15,)\n",
            "[[ 0  1  2  3  4]\n",
            " [ 5  6  7  8  9]\n",
            " [10 11 12 13 14]]\n"
          ],
          "name": "stdout"
        }
      ]
    },
    {
      "cell_type": "markdown",
      "metadata": {
        "id": "cO0axjgfkbJU"
      },
      "source": [
        "# 13.Define two matrices, then calculate and print the result of their point multiplication."
      ]
    },
    {
      "cell_type": "code",
      "metadata": {
        "id": "Wm56T7tXkbJW",
        "outputId": "31b45357-602a-4fff-c99b-b8ad0db109e2",
        "colab": {
          "base_uri": "https://localhost:8080/"
        }
      },
      "source": [
        "a = np.array([[2, 0],\n",
        "[1, 1]])\n",
        "b = np.array([[3, 1], [2, 2]])\n",
        "print(np.matmul(a, b))\n",
        "\n",
        "#второй вариант решения:\n",
        "\n",
        "a = np.array([ [2, 0], [1, 1]])\n",
        "b = np.array([[3,1], [2,2]])\n",
        "total = a.dot(b)\n",
        "print(total)"
      ],
      "execution_count": 48,
      "outputs": [
        {
          "output_type": "stream",
          "text": [
            "[[6 2]\n",
            " [5 3]]\n",
            "[[6 2]\n",
            " [5 3]]\n"
          ],
          "name": "stdout"
        }
      ]
    }
  ]
}